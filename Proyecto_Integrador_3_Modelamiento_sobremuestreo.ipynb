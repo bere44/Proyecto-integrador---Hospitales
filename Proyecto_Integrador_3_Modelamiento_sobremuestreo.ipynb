{
  "cells": [
    {
      "cell_type": "markdown",
      "metadata": {
        "id": "4WaoEOp0KkSp"
      },
      "source": [
        "![HenryLogo](https://d31uz8lwfmyn8g.cloudfront.net/Assets/logo-henry-white-lg.png)\n",
        "\n",
        "# **Proyecto integrador**\n",
        "\n",
        "### 3. Modelamiento\n",
        "\n",
        "Una vez preparados los datos, se procederá con el modelamiento. Recuerden que el objetivo es clasificar a un paciente como hospitalizado o no hospitalizado, teniendo en cuenta un data set que contiene información referente a antecedentes del paciente, morbilidad asociada al paciente y antecedentes relacionados con la toma de la biopsia y complicaciones infecciosas.\n",
        "\n",
        "\n"
      ]
    },
    {
      "cell_type": "markdown",
      "metadata": {
        "id": "E22GkymtLevx"
      },
      "source": [
        "Carguen la base de datos preparada desde la fase 2."
      ]
    },
    {
      "cell_type": "code",
      "execution_count": 52,
      "metadata": {
        "id": "dlRCMYtGLqDJ"
      },
      "outputs": [
        {
          "data": {
            "text/html": [
              "<div>\n",
              "<style scoped>\n",
              "    .dataframe tbody tr th:only-of-type {\n",
              "        vertical-align: middle;\n",
              "    }\n",
              "\n",
              "    .dataframe tbody tr th {\n",
              "        vertical-align: top;\n",
              "    }\n",
              "\n",
              "    .dataframe thead th {\n",
              "        text-align: right;\n",
              "    }\n",
              "</style>\n",
              "<table border=\"1\" class=\"dataframe\">\n",
              "  <thead>\n",
              "    <tr style=\"text-align: right;\">\n",
              "      <th></th>\n",
              "      <th>EDAD</th>\n",
              "      <th>DIABETES</th>\n",
              "      <th>HOSPITALIZACIÓN ULTIMO MES</th>\n",
              "      <th>PSA</th>\n",
              "      <th>BIOPSIAS PREVIAS</th>\n",
              "      <th>VOLUMEN PROSTATICO</th>\n",
              "      <th>NUMERO DE MUESTRAS TOMADAS</th>\n",
              "      <th>CUP</th>\n",
              "      <th>TIPO_CULTIVO_HEMOCULTIVO</th>\n",
              "      <th>TIPO_CULTIVO_HEMOCULTIVO Y UROCULTIVO</th>\n",
              "      <th>...</th>\n",
              "      <th>BIOPSIA_ADENOCARCINOMA GLEASON 10</th>\n",
              "      <th>BIOPSIA_ADENOCARCINOMA GLEASON 6</th>\n",
              "      <th>BIOPSIA_ADENOCARCINOMA GLEASON 7</th>\n",
              "      <th>BIOPSIA_ADENOCARCINOMA GLEASON 8</th>\n",
              "      <th>BIOPSIA_ADENOCARCINOMA GLEASON 9</th>\n",
              "      <th>BIOPSIA_CARCINOMA INDIFERENCIADO DE CELULAS CLARAS</th>\n",
              "      <th>BIOPSIA_HIPERPLASIA PROSTATICA</th>\n",
              "      <th>BIOPSIA_NEG</th>\n",
              "      <th>BIOPSIA_PROSTATITIS</th>\n",
              "      <th>HOSPITALIZACION</th>\n",
              "    </tr>\n",
              "  </thead>\n",
              "  <tbody>\n",
              "    <tr>\n",
              "      <th>0</th>\n",
              "      <td>53.0</td>\n",
              "      <td>0.0</td>\n",
              "      <td>0.0</td>\n",
              "      <td>4.0</td>\n",
              "      <td>0.0</td>\n",
              "      <td>1.0</td>\n",
              "      <td>12.0</td>\n",
              "      <td>0.0</td>\n",
              "      <td>0</td>\n",
              "      <td>0</td>\n",
              "      <td>...</td>\n",
              "      <td>0</td>\n",
              "      <td>0</td>\n",
              "      <td>0</td>\n",
              "      <td>0</td>\n",
              "      <td>0</td>\n",
              "      <td>0</td>\n",
              "      <td>0</td>\n",
              "      <td>1</td>\n",
              "      <td>0</td>\n",
              "      <td>1.0</td>\n",
              "    </tr>\n",
              "    <tr>\n",
              "      <th>1</th>\n",
              "      <td>56.0</td>\n",
              "      <td>0.0</td>\n",
              "      <td>0.0</td>\n",
              "      <td>7.7</td>\n",
              "      <td>0.0</td>\n",
              "      <td>1.0</td>\n",
              "      <td>12.0</td>\n",
              "      <td>0.0</td>\n",
              "      <td>0</td>\n",
              "      <td>0</td>\n",
              "      <td>...</td>\n",
              "      <td>0</td>\n",
              "      <td>0</td>\n",
              "      <td>0</td>\n",
              "      <td>0</td>\n",
              "      <td>0</td>\n",
              "      <td>0</td>\n",
              "      <td>0</td>\n",
              "      <td>1</td>\n",
              "      <td>0</td>\n",
              "      <td>1.0</td>\n",
              "    </tr>\n",
              "    <tr>\n",
              "      <th>2</th>\n",
              "      <td>57.0</td>\n",
              "      <td>0.0</td>\n",
              "      <td>0.0</td>\n",
              "      <td>29.0</td>\n",
              "      <td>1.0</td>\n",
              "      <td>1.0</td>\n",
              "      <td>24.0</td>\n",
              "      <td>0.0</td>\n",
              "      <td>1</td>\n",
              "      <td>0</td>\n",
              "      <td>...</td>\n",
              "      <td>0</td>\n",
              "      <td>0</td>\n",
              "      <td>0</td>\n",
              "      <td>0</td>\n",
              "      <td>0</td>\n",
              "      <td>0</td>\n",
              "      <td>0</td>\n",
              "      <td>1</td>\n",
              "      <td>0</td>\n",
              "      <td>1.0</td>\n",
              "    </tr>\n",
              "    <tr>\n",
              "      <th>3</th>\n",
              "      <td>56.0</td>\n",
              "      <td>0.0</td>\n",
              "      <td>0.0</td>\n",
              "      <td>7.0</td>\n",
              "      <td>0.0</td>\n",
              "      <td>1.0</td>\n",
              "      <td>12.0</td>\n",
              "      <td>0.0</td>\n",
              "      <td>0</td>\n",
              "      <td>0</td>\n",
              "      <td>...</td>\n",
              "      <td>0</td>\n",
              "      <td>0</td>\n",
              "      <td>0</td>\n",
              "      <td>0</td>\n",
              "      <td>0</td>\n",
              "      <td>0</td>\n",
              "      <td>0</td>\n",
              "      <td>1</td>\n",
              "      <td>0</td>\n",
              "      <td>1.0</td>\n",
              "    </tr>\n",
              "    <tr>\n",
              "      <th>4</th>\n",
              "      <td>55.0</td>\n",
              "      <td>0.0</td>\n",
              "      <td>0.0</td>\n",
              "      <td>29.0</td>\n",
              "      <td>1.0</td>\n",
              "      <td>1.0</td>\n",
              "      <td>24.0</td>\n",
              "      <td>0.0</td>\n",
              "      <td>1</td>\n",
              "      <td>0</td>\n",
              "      <td>...</td>\n",
              "      <td>0</td>\n",
              "      <td>0</td>\n",
              "      <td>0</td>\n",
              "      <td>0</td>\n",
              "      <td>0</td>\n",
              "      <td>0</td>\n",
              "      <td>0</td>\n",
              "      <td>1</td>\n",
              "      <td>0</td>\n",
              "      <td>1.0</td>\n",
              "    </tr>\n",
              "    <tr>\n",
              "      <th>...</th>\n",
              "      <td>...</td>\n",
              "      <td>...</td>\n",
              "      <td>...</td>\n",
              "      <td>...</td>\n",
              "      <td>...</td>\n",
              "      <td>...</td>\n",
              "      <td>...</td>\n",
              "      <td>...</td>\n",
              "      <td>...</td>\n",
              "      <td>...</td>\n",
              "      <td>...</td>\n",
              "      <td>...</td>\n",
              "      <td>...</td>\n",
              "      <td>...</td>\n",
              "      <td>...</td>\n",
              "      <td>...</td>\n",
              "      <td>...</td>\n",
              "      <td>...</td>\n",
              "      <td>...</td>\n",
              "      <td>...</td>\n",
              "      <td>...</td>\n",
              "    </tr>\n",
              "    <tr>\n",
              "      <th>1083</th>\n",
              "      <td>55.0</td>\n",
              "      <td>1.0</td>\n",
              "      <td>1.0</td>\n",
              "      <td>4.0</td>\n",
              "      <td>0.0</td>\n",
              "      <td>1.0</td>\n",
              "      <td>12.0</td>\n",
              "      <td>0.0</td>\n",
              "      <td>0</td>\n",
              "      <td>0</td>\n",
              "      <td>...</td>\n",
              "      <td>0</td>\n",
              "      <td>0</td>\n",
              "      <td>0</td>\n",
              "      <td>0</td>\n",
              "      <td>0</td>\n",
              "      <td>0</td>\n",
              "      <td>0</td>\n",
              "      <td>1</td>\n",
              "      <td>0</td>\n",
              "      <td>1.0</td>\n",
              "    </tr>\n",
              "    <tr>\n",
              "      <th>1084</th>\n",
              "      <td>69.0</td>\n",
              "      <td>0.0</td>\n",
              "      <td>0.0</td>\n",
              "      <td>6.0</td>\n",
              "      <td>0.0</td>\n",
              "      <td>0.0</td>\n",
              "      <td>12.0</td>\n",
              "      <td>0.0</td>\n",
              "      <td>0</td>\n",
              "      <td>0</td>\n",
              "      <td>...</td>\n",
              "      <td>0</td>\n",
              "      <td>0</td>\n",
              "      <td>0</td>\n",
              "      <td>0</td>\n",
              "      <td>0</td>\n",
              "      <td>0</td>\n",
              "      <td>0</td>\n",
              "      <td>1</td>\n",
              "      <td>0</td>\n",
              "      <td>1.0</td>\n",
              "    </tr>\n",
              "    <tr>\n",
              "      <th>1085</th>\n",
              "      <td>68.0</td>\n",
              "      <td>0.0</td>\n",
              "      <td>0.0</td>\n",
              "      <td>6.2</td>\n",
              "      <td>0.0</td>\n",
              "      <td>1.0</td>\n",
              "      <td>12.0</td>\n",
              "      <td>0.0</td>\n",
              "      <td>0</td>\n",
              "      <td>1</td>\n",
              "      <td>...</td>\n",
              "      <td>0</td>\n",
              "      <td>0</td>\n",
              "      <td>0</td>\n",
              "      <td>0</td>\n",
              "      <td>0</td>\n",
              "      <td>0</td>\n",
              "      <td>0</td>\n",
              "      <td>1</td>\n",
              "      <td>0</td>\n",
              "      <td>1.0</td>\n",
              "    </tr>\n",
              "    <tr>\n",
              "      <th>1086</th>\n",
              "      <td>65.0</td>\n",
              "      <td>0.0</td>\n",
              "      <td>0.0</td>\n",
              "      <td>4.3</td>\n",
              "      <td>0.0</td>\n",
              "      <td>0.0</td>\n",
              "      <td>12.0</td>\n",
              "      <td>0.0</td>\n",
              "      <td>0</td>\n",
              "      <td>0</td>\n",
              "      <td>...</td>\n",
              "      <td>0</td>\n",
              "      <td>0</td>\n",
              "      <td>0</td>\n",
              "      <td>0</td>\n",
              "      <td>0</td>\n",
              "      <td>0</td>\n",
              "      <td>0</td>\n",
              "      <td>1</td>\n",
              "      <td>0</td>\n",
              "      <td>1.0</td>\n",
              "    </tr>\n",
              "    <tr>\n",
              "      <th>1087</th>\n",
              "      <td>53.0</td>\n",
              "      <td>0.0</td>\n",
              "      <td>0.0</td>\n",
              "      <td>4.0</td>\n",
              "      <td>0.0</td>\n",
              "      <td>1.0</td>\n",
              "      <td>12.0</td>\n",
              "      <td>0.0</td>\n",
              "      <td>0</td>\n",
              "      <td>0</td>\n",
              "      <td>...</td>\n",
              "      <td>0</td>\n",
              "      <td>0</td>\n",
              "      <td>0</td>\n",
              "      <td>0</td>\n",
              "      <td>0</td>\n",
              "      <td>0</td>\n",
              "      <td>0</td>\n",
              "      <td>1</td>\n",
              "      <td>0</td>\n",
              "      <td>1.0</td>\n",
              "    </tr>\n",
              "  </tbody>\n",
              "</table>\n",
              "<p>1088 rows × 34 columns</p>\n",
              "</div>"
            ],
            "text/plain": [
              "      EDAD  DIABETES  HOSPITALIZACIÓN ULTIMO MES   PSA  BIOPSIAS PREVIAS  \\\n",
              "0     53.0       0.0                         0.0   4.0               0.0   \n",
              "1     56.0       0.0                         0.0   7.7               0.0   \n",
              "2     57.0       0.0                         0.0  29.0               1.0   \n",
              "3     56.0       0.0                         0.0   7.0               0.0   \n",
              "4     55.0       0.0                         0.0  29.0               1.0   \n",
              "...    ...       ...                         ...   ...               ...   \n",
              "1083  55.0       1.0                         1.0   4.0               0.0   \n",
              "1084  69.0       0.0                         0.0   6.0               0.0   \n",
              "1085  68.0       0.0                         0.0   6.2               0.0   \n",
              "1086  65.0       0.0                         0.0   4.3               0.0   \n",
              "1087  53.0       0.0                         0.0   4.0               0.0   \n",
              "\n",
              "      VOLUMEN PROSTATICO  NUMERO DE MUESTRAS TOMADAS  CUP  \\\n",
              "0                    1.0                        12.0  0.0   \n",
              "1                    1.0                        12.0  0.0   \n",
              "2                    1.0                        24.0  0.0   \n",
              "3                    1.0                        12.0  0.0   \n",
              "4                    1.0                        24.0  0.0   \n",
              "...                  ...                         ...  ...   \n",
              "1083                 1.0                        12.0  0.0   \n",
              "1084                 0.0                        12.0  0.0   \n",
              "1085                 1.0                        12.0  0.0   \n",
              "1086                 0.0                        12.0  0.0   \n",
              "1087                 1.0                        12.0  0.0   \n",
              "\n",
              "      TIPO_CULTIVO_HEMOCULTIVO  TIPO_CULTIVO_HEMOCULTIVO Y UROCULTIVO  ...  \\\n",
              "0                            0                                      0  ...   \n",
              "1                            0                                      0  ...   \n",
              "2                            1                                      0  ...   \n",
              "3                            0                                      0  ...   \n",
              "4                            1                                      0  ...   \n",
              "...                        ...                                    ...  ...   \n",
              "1083                         0                                      0  ...   \n",
              "1084                         0                                      0  ...   \n",
              "1085                         0                                      1  ...   \n",
              "1086                         0                                      0  ...   \n",
              "1087                         0                                      0  ...   \n",
              "\n",
              "      BIOPSIA_ADENOCARCINOMA GLEASON 10  BIOPSIA_ADENOCARCINOMA GLEASON 6  \\\n",
              "0                                     0                                 0   \n",
              "1                                     0                                 0   \n",
              "2                                     0                                 0   \n",
              "3                                     0                                 0   \n",
              "4                                     0                                 0   \n",
              "...                                 ...                               ...   \n",
              "1083                                  0                                 0   \n",
              "1084                                  0                                 0   \n",
              "1085                                  0                                 0   \n",
              "1086                                  0                                 0   \n",
              "1087                                  0                                 0   \n",
              "\n",
              "      BIOPSIA_ADENOCARCINOMA GLEASON 7  BIOPSIA_ADENOCARCINOMA GLEASON 8  \\\n",
              "0                                    0                                 0   \n",
              "1                                    0                                 0   \n",
              "2                                    0                                 0   \n",
              "3                                    0                                 0   \n",
              "4                                    0                                 0   \n",
              "...                                ...                               ...   \n",
              "1083                                 0                                 0   \n",
              "1084                                 0                                 0   \n",
              "1085                                 0                                 0   \n",
              "1086                                 0                                 0   \n",
              "1087                                 0                                 0   \n",
              "\n",
              "      BIOPSIA_ADENOCARCINOMA GLEASON 9  \\\n",
              "0                                    0   \n",
              "1                                    0   \n",
              "2                                    0   \n",
              "3                                    0   \n",
              "4                                    0   \n",
              "...                                ...   \n",
              "1083                                 0   \n",
              "1084                                 0   \n",
              "1085                                 0   \n",
              "1086                                 0   \n",
              "1087                                 0   \n",
              "\n",
              "      BIOPSIA_CARCINOMA INDIFERENCIADO DE CELULAS CLARAS  \\\n",
              "0                                                     0    \n",
              "1                                                     0    \n",
              "2                                                     0    \n",
              "3                                                     0    \n",
              "4                                                     0    \n",
              "...                                                 ...    \n",
              "1083                                                  0    \n",
              "1084                                                  0    \n",
              "1085                                                  0    \n",
              "1086                                                  0    \n",
              "1087                                                  0    \n",
              "\n",
              "      BIOPSIA_HIPERPLASIA PROSTATICA  BIOPSIA_NEG  BIOPSIA_PROSTATITIS  \\\n",
              "0                                  0            1                    0   \n",
              "1                                  0            1                    0   \n",
              "2                                  0            1                    0   \n",
              "3                                  0            1                    0   \n",
              "4                                  0            1                    0   \n",
              "...                              ...          ...                  ...   \n",
              "1083                               0            1                    0   \n",
              "1084                               0            1                    0   \n",
              "1085                               0            1                    0   \n",
              "1086                               0            1                    0   \n",
              "1087                               0            1                    0   \n",
              "\n",
              "      HOSPITALIZACION  \n",
              "0                 1.0  \n",
              "1                 1.0  \n",
              "2                 1.0  \n",
              "3                 1.0  \n",
              "4                 1.0  \n",
              "...               ...  \n",
              "1083              1.0  \n",
              "1084              1.0  \n",
              "1085              1.0  \n",
              "1086              1.0  \n",
              "1087              1.0  \n",
              "\n",
              "[1088 rows x 34 columns]"
            ]
          },
          "execution_count": 52,
          "metadata": {},
          "output_type": "execute_result"
        }
      ],
      "source": [
        "import pandas as pd\n",
        "import numpy as np\n",
        "\n",
        "df1 = pd.read_csv('BBDD_Hospitalización_sobremuestreo.csv')\n",
        "df1"
      ]
    },
    {
      "cell_type": "code",
      "execution_count": 53,
      "metadata": {},
      "outputs": [],
      "source": [
        "df1[\"HOSPITALIZACION\"]=df1[\"HOSPITALIZACION\"].fillna(df1[\"HOSPITALIZACION\"].median())"
      ]
    },
    {
      "cell_type": "code",
      "execution_count": 54,
      "metadata": {},
      "outputs": [
        {
          "data": {
            "text/plain": [
              "Index(['EDAD', 'DIABETES', 'HOSPITALIZACIÓN ULTIMO MES', 'PSA',\n",
              "       'BIOPSIAS PREVIAS', 'VOLUMEN PROSTATICO', 'NUMERO DE MUESTRAS TOMADAS',\n",
              "       'CUP', 'TIPO_CULTIVO_HEMOCULTIVO',\n",
              "       'TIPO_CULTIVO_HEMOCULTIVO Y UROCULTIVO', 'TIPO_CULTIVO_NO',\n",
              "       'TIPO_CULTIVO_UROCULTIVO', 'AGENTE_AISLADO_E.COLI', 'AGENTE_AISLADO_NO',\n",
              "       'AGENTE_AISLADO_PSEUDOMONAS AERUGINOSA',\n",
              "       'PATRON_RESISTENCIA_ AMPI R, CIPRO R, GENTA R, SULFA M R',\n",
              "       'PATRON_RESISTENCIA_MULTI SENSIBLE', 'PATRON_RESISTENCIA_NO',\n",
              "       'PATRON_RESISTENCIA_RESISTENTE A AMPI, CIPRO Y GENTA',\n",
              "       'PATRON_RESISTENCIA_RESISTENTE A AMPI, SULFA, CEFADROXILO, CEFUROXIMO, CIPRO Y CEFEPIME, CEFOTAXIMA',\n",
              "       'ANTIBIOTICO_PROFILAXIS_CEFALOSPORINA_AMINOGLUCOCIDO',\n",
              "       'ANTIBIOTICO_PROFILAXIS_FLUOROQUINOLONA_AMINOGLICOSIDO',\n",
              "       'ANTIBIOTICO_PROFILAXIS_OROQUINOLONAS', 'ANTIBIOTICO_PROFILAXIS_OTROS',\n",
              "       'BIOPSIA_ADENOCARCINOMA GLEASON 10', 'BIOPSIA_ADENOCARCINOMA GLEASON 6',\n",
              "       'BIOPSIA_ADENOCARCINOMA GLEASON 7', 'BIOPSIA_ADENOCARCINOMA GLEASON 8',\n",
              "       'BIOPSIA_ADENOCARCINOMA GLEASON 9',\n",
              "       'BIOPSIA_CARCINOMA INDIFERENCIADO DE CELULAS CLARAS',\n",
              "       'BIOPSIA_HIPERPLASIA PROSTATICA', 'BIOPSIA_NEG', 'BIOPSIA_PROSTATITIS',\n",
              "       'HOSPITALIZACION'],\n",
              "      dtype='object')"
            ]
          },
          "execution_count": 54,
          "metadata": {},
          "output_type": "execute_result"
        }
      ],
      "source": [
        "df1.columns"
      ]
    },
    {
      "cell_type": "markdown",
      "metadata": {},
      "source": [
        "df1.info()"
      ]
    },
    {
      "cell_type": "markdown",
      "metadata": {
        "id": "X33Od3Y_Lrye"
      },
      "source": [
        "Separen el dataset en X, y (variable objetivo)"
      ]
    },
    {
      "cell_type": "code",
      "execution_count": 55,
      "metadata": {
        "id": "Zjq3g_zkMUT5"
      },
      "outputs": [],
      "source": [
        "X=df1.loc[:,df1.columns!=\"HOSPITALIZACION\"]\n",
        "y=df1.iloc[:,8]"
      ]
    },
    {
      "cell_type": "markdown",
      "metadata": {
        "id": "mTV2RdmbMoRE"
      },
      "source": [
        "Separen el dataset en X_train, X_test, y_train y y_test"
      ]
    },
    {
      "cell_type": "code",
      "execution_count": 56,
      "metadata": {
        "id": "ILzt6oOaM1ag"
      },
      "outputs": [],
      "source": [
        "from sklearn.model_selection import train_test_split\n",
        "#X_Train, X_Test, y_Train, y_Test = train_test_split(X, y, test_size = 0.25, random_state=0)\n",
        "X_Train, X_Test, y_Train, y_Test = train_test_split(X, y, test_size = 0.25, random_state=0,stratify=y)"
      ]
    },
    {
      "cell_type": "code",
      "execution_count": 57,
      "metadata": {},
      "outputs": [
        {
          "data": {
            "text/plain": [
              "TIPO_CULTIVO_HEMOCULTIVO\n",
              "0    782\n",
              "1     34\n",
              "Name: count, dtype: int64"
            ]
          },
          "execution_count": 57,
          "metadata": {},
          "output_type": "execute_result"
        }
      ],
      "source": [
        "y_Train.value_counts()"
      ]
    },
    {
      "cell_type": "code",
      "execution_count": 58,
      "metadata": {},
      "outputs": [
        {
          "data": {
            "text/plain": [
              "TIPO_CULTIVO_HEMOCULTIVO\n",
              "0    261\n",
              "1     11\n",
              "Name: count, dtype: int64"
            ]
          },
          "execution_count": 58,
          "metadata": {},
          "output_type": "execute_result"
        }
      ],
      "source": [
        "y_Test.value_counts()"
      ]
    },
    {
      "cell_type": "markdown",
      "metadata": {
        "id": "zyQIaY1bM12g"
      },
      "source": [
        "Instancien, entrenen y predigan sobre un árbol de decisión asignando una profundidad máxima arbitraria"
      ]
    },
    {
      "cell_type": "code",
      "execution_count": 59,
      "metadata": {
        "id": "HO3Db1YQM9JS"
      },
      "outputs": [],
      "source": [
        "#importar el arbol de desicion\n",
        "from sklearn.tree import DecisionTreeClassifier\n",
        "#llamar a la funcion arbol\n",
        "arbol= DecisionTreeClassifier(max_depth = 4, random_state = 42, class_weight={0:1,1:22})\n",
        "#arbol= DecisionTreeClassifier(max_depth = 4, random_state = 42)"
      ]
    },
    {
      "cell_type": "code",
      "execution_count": 60,
      "metadata": {},
      "outputs": [],
      "source": [
        "#entrenar el modelo con los parametros en train\n",
        "arbol_hospital=arbol.fit(X_Train,y_Train)"
      ]
    },
    {
      "cell_type": "code",
      "execution_count": 61,
      "metadata": {},
      "outputs": [],
      "source": [
        "#predecir la y con los valores del X_test\n",
        "y_predict=arbol.predict(X_Test)"
      ]
    },
    {
      "cell_type": "code",
      "execution_count": 62,
      "metadata": {},
      "outputs": [
        {
          "name": "stdout",
          "output_type": "stream",
          "text": [
            "\n"
          ]
        },
        {
          "data": {
            "text/plain": [
              "[Text(0.5, 0.75, 'x[8] <= 0.5\\ngini = 0.5\\nsamples = 816\\nvalue = [782, 748]'),\n",
              " Text(0.25, 0.25, 'gini = 0.0\\nsamples = 782\\nvalue = [782, 0]'),\n",
              " Text(0.75, 0.25, 'gini = 0.0\\nsamples = 34\\nvalue = [0, 748]')]"
            ]
          },
          "execution_count": 62,
          "metadata": {},
          "output_type": "execute_result"
        },
        {
          "data": {
            "image/png": "[encoded data removed]",
            "text/plain": [
              "<Figure size 1000x700 with 1 Axes>"
            ]
          },
          "metadata": {},
          "output_type": "display_data"
        }
      ],
      "source": [
        "#graficar el arbol \n",
        "from sklearn import tree\n",
        "import matplotlib.pyplot as plt\n",
        "print()\n",
        "plt.figure(figsize = (10,7))\n",
        "#tree.plot_tree(arbol_hospital, feature_names=list(X.columns.values), filled=True)\n",
        "tree.plot_tree(arbol_hospital, filled=True)"
      ]
    },
    {
      "cell_type": "code",
      "execution_count": null,
      "metadata": {},
      "outputs": [],
      "source": []
    },
    {
      "cell_type": "markdown",
      "metadata": {
        "id": "HAZhxOMyNFON"
      },
      "source": [
        "Realicen la matriz de confusión para este modelo. Se recomienda utilizar mapa de calor para la visualización. "
      ]
    },
    {
      "cell_type": "code",
      "execution_count": 37,
      "metadata": {
        "id": "_GpXEa1oNQfG"
      },
      "outputs": [
        {
          "data": {
            "text/plain": [
              "array([[261,   0],\n",
              "       [  0,  11]], dtype=int64)"
            ]
          },
          "execution_count": 37,
          "metadata": {},
          "output_type": "execute_result"
        }
      ],
      "source": [
        "from sklearn.metrics import confusion_matrix,classification_report, accuracy_score\n",
        "matriz_confusion=confusion_matrix(y_Test,y_predict)\n",
        "matriz_confusion\n"
      ]
    },
    {
      "cell_type": "code",
      "execution_count": 38,
      "metadata": {},
      "outputs": [
        {
          "name": "stdout",
          "output_type": "stream",
          "text": [
            "Exactitud en el set de entrenamiento:  1.00\n",
            "Exactitud en el set de testeo:  1.00\n"
          ]
        }
      ],
      "source": [
        "print('Exactitud en el set de entrenamiento: {0: .2f}'.format(arbol.score(X_Train, y_Train)))\n",
        "print('Exactitud en el set de testeo: {0: .2f}'.format(arbol.score(X_Test, y_Test)))"
      ]
    },
    {
      "cell_type": "code",
      "execution_count": 39,
      "metadata": {},
      "outputs": [
        {
          "data": {
            "image/png": "[encoded data removed]",
            "text/plain": [
              "<Figure size 600x400 with 1 Axes>"
            ]
          },
          "metadata": {},
          "output_type": "display_data"
        }
      ],
      "source": [
        "fig, ax = plt.subplots(figsize=(6,4))\n",
        "ax.matshow(matriz_confusion)\n",
        "plt.title('Matriz de Confusión', fontsize=20)\n",
        "plt.ylabel('Etiqueta Verdadera', fontsize=15)\n",
        "plt.xlabel('Etiqueta Predicha', fontsize=15)\n",
        "for (i, j), z in np.ndenumerate(matriz_confusion):\n",
        "    ax.text(j, i, '{:0.1f}'.format(z), ha='center', va='center')"
      ]
    },
    {
      "cell_type": "markdown",
      "metadata": {
        "id": "CmRUpq9FMcsi"
      },
      "source": [
        "Seleccione tres métricas de evaluación para este modelo de clasificación y describa el significado de cada una de ellas para el modelo creado."
      ]
    },
    {
      "cell_type": "code",
      "execution_count": 41,
      "metadata": {
        "id": "xSSe-ZHpMmdz"
      },
      "outputs": [
        {
          "name": "stdout",
          "output_type": "stream",
          "text": [
            "              precision    recall  f1-score   support\n",
            "\n",
            "           0       1.00      1.00      1.00       261\n",
            "           1       1.00      1.00      1.00        11\n",
            "\n",
            "    accuracy                           1.00       272\n",
            "   macro avg       1.00      1.00      1.00       272\n",
            "weighted avg       1.00      1.00      1.00       272\n",
            "\n"
          ]
        }
      ],
      "source": [
        "print(classification_report(y_Test, y_predict))\n"
      ]
    },
    {
      "cell_type": "markdown",
      "metadata": {
        "id": "b_u-bC8FNTkT"
      },
      "source": [
        "Realice un diagrama de la importancia de cada variable respecto a la clasificación de la variable objetivo"
      ]
    },
    {
      "cell_type": "code",
      "execution_count": null,
      "metadata": {
        "id": "I9w7a6dXNYPz"
      },
      "outputs": [],
      "source": []
    },
    {
      "cell_type": "markdown",
      "metadata": {
        "id": "E3k9TEhuSU9i"
      },
      "source": [
        "Encuentre cuál sería un valor óptimo para el hiperparámetro **max_depth** para el árbol de decisión. Construya un modelo con este valor y compare las métricas de evaluación respecto al modelo creado con una profundidad arbitraria. "
      ]
    },
    {
      "cell_type": "code",
      "execution_count": 43,
      "metadata": {},
      "outputs": [
        {
          "data": {
            "image/png": "[encoded data removed]",
            "text/plain": [
              "<Figure size 1200x700 with 1 Axes>"
            ]
          },
          "metadata": {},
          "output_type": "display_data"
        }
      ],
      "source": [
        "train_prec =  []\n",
        "eval_prec = []\n",
        "pred_prec=[]\n",
        "max_deep_list = list(range(3, 36))\n",
        "\n",
        "for deep in max_deep_list:\n",
        "    arbol2 = DecisionTreeClassifier(max_depth=deep, criterion='entropy',class_weight={0:1,1:22})\n",
        "    arbol2.fit(X_Train, y_Train)\n",
        "    y_pre=arbol.predict(X_Test)\n",
        "    train_prec.append(arbol2.score(X_Train, y_Train))\n",
        "    eval_prec.append(arbol2.score(X_Test, y_Test))\n",
        "    pred_prec.append(arbol2.score(X_Test, y_pre))\n",
        "\n",
        "plt.figure(figsize=(12,7))\n",
        "plt.plot(max_deep_list, train_prec, color='r', label='Set de entrenamiento')\n",
        "plt.plot(max_deep_list, eval_prec, color='b', label='Set de testeo')\n",
        "#plt.plot(max_deep_list, pred_prec, color='g', label='Set de prediccion')\n",
        "plt.title('Gráfico de ajuste del árbol de decision', fontsize = 15)\n",
        "plt.legend()\n",
        "plt.ylabel('Exactitud')\n",
        "plt.xlabel('Profundidad del arbol')\n",
        "plt.show()"
      ]
    },
    {
      "cell_type": "code",
      "execution_count": 47,
      "metadata": {},
      "outputs": [
        {
          "name": "stdout",
          "output_type": "stream",
          "text": [
            "              precision    recall  f1-score   support\n",
            "\n",
            "           0       1.00      1.00      1.00       261\n",
            "           1       1.00      1.00      1.00        11\n",
            "\n",
            "    accuracy                           1.00       272\n",
            "   macro avg       1.00      1.00      1.00       272\n",
            "weighted avg       1.00      1.00      1.00       272\n",
            "\n",
            "Exactitud en el set de entrenamiento:  1.00\n",
            "Exactitud en el set de testeo:  1.00\n",
            "              precision    recall  f1-score   support\n",
            "\n",
            "           0       1.00      1.00      1.00       261\n",
            "           1       1.00      1.00      1.00        11\n",
            "\n",
            "    accuracy                           1.00       272\n",
            "   macro avg       1.00      1.00      1.00       272\n",
            "weighted avg       1.00      1.00      1.00       272\n",
            "\n",
            "Exactitud en el set de entrenamiento:  1.00\n",
            "Exactitud en el set de testeo:  1.00\n",
            "              precision    recall  f1-score   support\n",
            "\n",
            "           0       1.00      1.00      1.00       261\n",
            "           1       1.00      1.00      1.00        11\n",
            "\n",
            "    accuracy                           1.00       272\n",
            "   macro avg       1.00      1.00      1.00       272\n",
            "weighted avg       1.00      1.00      1.00       272\n",
            "\n",
            "Exactitud en el set de entrenamiento:  1.00\n",
            "Exactitud en el set de testeo:  1.00\n",
            "              precision    recall  f1-score   support\n",
            "\n",
            "           0       1.00      1.00      1.00       261\n",
            "           1       1.00      1.00      1.00        11\n",
            "\n",
            "    accuracy                           1.00       272\n",
            "   macro avg       1.00      1.00      1.00       272\n",
            "weighted avg       1.00      1.00      1.00       272\n",
            "\n",
            "Exactitud en el set de entrenamiento:  1.00\n",
            "Exactitud en el set de testeo:  1.00\n",
            "              precision    recall  f1-score   support\n",
            "\n",
            "           0       1.00      1.00      1.00       261\n",
            "           1       1.00      1.00      1.00        11\n",
            "\n",
            "    accuracy                           1.00       272\n",
            "   macro avg       1.00      1.00      1.00       272\n",
            "weighted avg       1.00      1.00      1.00       272\n",
            "\n",
            "Exactitud en el set de entrenamiento:  1.00\n",
            "Exactitud en el set de testeo:  1.00\n",
            "              precision    recall  f1-score   support\n",
            "\n",
            "           0       1.00      1.00      1.00       261\n",
            "           1       1.00      1.00      1.00        11\n",
            "\n",
            "    accuracy                           1.00       272\n",
            "   macro avg       1.00      1.00      1.00       272\n",
            "weighted avg       1.00      1.00      1.00       272\n",
            "\n",
            "Exactitud en el set de entrenamiento:  1.00\n",
            "Exactitud en el set de testeo:  1.00\n"
          ]
        }
      ],
      "source": [
        "#vemos cual de las profundidades hace que el f score de las hospitalizaciones mejore, el maximo f score \n",
        "#se da en la produndidad 4,10\n",
        "depth_range= range(4,10)\n",
        "for depth in depth_range:\n",
        "    #arbol= DecisionTreeClassifier(max_depth = depth, random_state = 42, class_weight={0:1,1:22})\n",
        "    arbol= DecisionTreeClassifier(max_depth = depth, random_state = 42)\n",
        "    arbol_hospital=arbol.fit(X_Train,y_Train)\n",
        "    y_predict=arbol.predict(X_Test)\n",
        "    #plt.figure(figsize = (10,7))\n",
        "    #tree.plot_tree(arbol_hospital, filled=True)\n",
        "    print(classification_report(y_Test, y_predict))\n",
        "    print('Exactitud en el set de entrenamiento: {0: .2f}'.format(arbol.score(X_Train, y_Train)))\n",
        "    print('Exactitud en el set de testeo: {0: .2f}'.format(arbol.score(X_Test, y_Test)))\n"
      ]
    },
    {
      "cell_type": "code",
      "execution_count": 48,
      "metadata": {},
      "outputs": [
        {
          "data": {
            "text/plain": [
              "<matplotlib.legend.Legend at 0x29fdaeda890>"
            ]
          },
          "execution_count": 48,
          "metadata": {},
          "output_type": "execute_result"
        },
        {
          "data": {
            "image/png": "[encoded data removed]",
            "text/plain": [
              "<Figure size 500x500 with 1 Axes>"
            ]
          },
          "metadata": {},
          "output_type": "display_data"
        }
      ],
      "source": [
        "#GRAFICO LA CURVA ROC\n",
        "from sklearn.metrics import roc_curve, auc\n",
        "arbol_fp, arbol_tp, threshold = roc_curve(y_Test,y_predict)\n",
        "auc_arbol=auc(arbol_fp, arbol_tp)\n",
        "plt.figure(figsize=(5, 5), dpi=100)\n",
        "plt.plot(arbol_fp, arbol_tp, linestyle='-',label='arbol (auc = %0.3f)' % auc_arbol)\n",
        "\n",
        "plt.xlabel('False Positive Rate -->')\n",
        "plt.ylabel('True Positive Rate -->')\n",
        "\n",
        "plt.legend()\n"
      ]
    },
    {
      "cell_type": "markdown",
      "metadata": {
        "id": "EiqnqbBuNmmW"
      },
      "source": [
        "Instancien, entrenen y predigan sobre un modelo de k-vecinos asignando una cantidad de vecinos k-aribitraria. "
      ]
    },
    {
      "cell_type": "code",
      "execution_count": 49,
      "metadata": {
        "id": "m_n9Yfg0NmTP"
      },
      "outputs": [
        {
          "name": "stderr",
          "output_type": "stream",
          "text": [
            "c:\\Users\\beren\\AppData\\Local\\Programs\\Python\\Python310\\lib\\site-packages\\sklearn\\base.py:464: UserWarning: X does not have valid feature names, but KNeighborsClassifier was fitted with feature names\n",
            "  warnings.warn(\n"
          ]
        }
      ],
      "source": [
        "from sklearn.neighbors import KNeighborsClassifier\n",
        "\n",
        "# Instanciamos un objeto de la clase KNeighborsClassifier\n",
        "\n",
        "kvecinos= KNeighborsClassifier(n_neighbors=100)\n",
        "# Entrenamos\n",
        "\n",
        "kvecinos.fit(X_Train,y_Train)\n",
        "y_pred = kvecinos.predict(X_Test.values)\n"
      ]
    },
    {
      "cell_type": "code",
      "execution_count": 50,
      "metadata": {},
      "outputs": [
        {
          "name": "stdout",
          "output_type": "stream",
          "text": [
            "0.9595588235294118\n",
            "Exactitud en el set de entrenamiento:  1.00\n",
            "Exactitud en el set de testeo:  1.00\n"
          ]
        }
      ],
      "source": [
        "from sklearn.metrics import accuracy_score\n",
        "print(accuracy_score(y_Test,y_pred))\n",
        "print('Exactitud en el set de entrenamiento: {0: .2f}'.format(arbol.score(X_Train, y_Train)))\n",
        "print('Exactitud en el set de testeo: {0: .2f}'.format(arbol.score(X_Test, y_Test)))"
      ]
    },
    {
      "cell_type": "markdown",
      "metadata": {
        "id": "kiZg1tfCS38i"
      },
      "source": [
        "Encuentre el valor óptimo para k"
      ]
    },
    {
      "cell_type": "code",
      "execution_count": 51,
      "metadata": {
        "id": "DVaNp3K9S7Os"
      },
      "outputs": [
        {
          "name": "stdout",
          "output_type": "stream",
          "text": [
            "1.0\n",
            "              precision    recall  f1-score   support\n",
            "\n",
            "           0       1.00      1.00      1.00       261\n",
            "           1       1.00      1.00      1.00        11\n",
            "\n",
            "    accuracy                           1.00       272\n",
            "   macro avg       1.00      1.00      1.00       272\n",
            "weighted avg       1.00      1.00      1.00       272\n",
            "\n",
            "1.0\n",
            "              precision    recall  f1-score   support\n",
            "\n",
            "           0       1.00      1.00      1.00       261\n",
            "           1       1.00      1.00      1.00        11\n",
            "\n",
            "    accuracy                           1.00       272\n",
            "   macro avg       1.00      1.00      1.00       272\n",
            "weighted avg       1.00      1.00      1.00       272\n",
            "\n"
          ]
        },
        {
          "name": "stderr",
          "output_type": "stream",
          "text": [
            "c:\\Users\\beren\\AppData\\Local\\Programs\\Python\\Python310\\lib\\site-packages\\sklearn\\base.py:464: UserWarning: X does not have valid feature names, but KNeighborsClassifier was fitted with feature names\n",
            "  warnings.warn(\n",
            "c:\\Users\\beren\\AppData\\Local\\Programs\\Python\\Python310\\lib\\site-packages\\sklearn\\base.py:464: UserWarning: X does not have valid feature names, but KNeighborsClassifier was fitted with feature names\n",
            "  warnings.warn(\n"
          ]
        }
      ],
      "source": [
        "for n in [1,5]:\n",
        "    kvecinos= KNeighborsClassifier(n_neighbors=n)\n",
        "    kvecinos.fit(X_Train,y_Train)\n",
        "    y_pred = kvecinos.predict(X_Test.values)\n",
        "    print(accuracy_score(y_Test,y_pred))\n",
        "    print(classification_report(y_Test, y_pred))"
      ]
    },
    {
      "cell_type": "markdown",
      "metadata": {
        "id": "_xXX6APsNjkV"
      },
      "source": [
        "Halle las mismas tres métricas de evaluación para este modelo de clasificación y compare los valores para el performance, respecto al árbol de decisión cuyo hiperparámetro **max_depth** se optimizó. ¿Qué puede concluir? "
      ]
    },
    {
      "cell_type": "code",
      "execution_count": null,
      "metadata": {
        "id": "paHDdRnYN_Gl"
      },
      "outputs": [],
      "source": []
    },
    {
      "cell_type": "markdown",
      "metadata": {
        "id": "JeGx2V0lTF9i"
      },
      "source": [
        "De acuerdo con lo aprendido en el módulo, ¿Cómo cree que se puede mejorar el performance de este modelo? "
      ]
    },
    {
      "cell_type": "markdown",
      "metadata": {},
      "source": [
        "El modelo de kvecinos no es conveniente pues el aunque se intento balancear el dataset con stratify al hacer la particion de grupos de entreaniemto y test, creo que seria mejor intentar este modelo con el dataset mas eqilibrado."
      ]
    }
  ],
  "metadata": {
    "colab": {
      "provenance": []
    },
    "kernelspec": {
      "display_name": "Python 3",
      "language": "python",
      "name": "python3"
    },
    "language_info": {
      "codemirror_mode": {
        "name": "ipython",
        "version": 3
      },
      "file_extension": ".py",
      "mimetype": "text/x-python",
      "name": "python",
      "nbconvert_exporter": "python",
      "pygments_lexer": "ipython3",
      "version": "3.10.6"
    },
    "orig_nbformat": 4,
    "vscode": {
      "interpreter": {
        "hash": "ae0e7af47f894f9476ada5eb18ddb08363018cc3b7dc70bce08ae16d38df8604"
      }
    }
  },
  "nbformat": 4,
  "nbformat_minor": 0
}
